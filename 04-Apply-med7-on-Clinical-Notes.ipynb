{
 "cells": [
  {
   "cell_type": "markdown",
   "metadata": {},
   "source": [
    "# Changes made by kts4 / noami2\n",
    "- `en_core_med7_lg` was not available and so needed to pip install\n",
    "  - `!pip install https://huggingface.co/kormilitzin/en_core_med7_lg/resolve/main/en_core_med7_lg-any-py3-none-any.whl`"
   ]
  },
  {
   "cell_type": "code",
   "execution_count": null,
   "metadata": {},
   "outputs": [],
   "source": [
    "!pip install https://huggingface.co/kormilitzin/en_core_med7_lg/resolve/main/en_core_med7_lg-any-py3-none-any.whl"
   ]
  },
  {
   "cell_type": "code",
   "execution_count": null,
   "metadata": {},
   "outputs": [],
   "source": [
    "import pandas as pd\n",
    "import spacy\n",
    "\n",
    "med7 = spacy.load(\"en_core_med7_lg\")"
   ]
  },
  {
   "cell_type": "code",
   "execution_count": null,
   "metadata": {},
   "outputs": [],
   "source": [
    "preprocessed_df = pd.read_pickle(\"data/preprocessed_notes.p\")"
   ]
  },
  {
   "cell_type": "code",
   "execution_count": null,
   "metadata": {},
   "outputs": [],
   "source": [
    "preprocessed_df['ner'] = None"
   ]
  },
  {
   "cell_type": "code",
   "execution_count": null,
   "metadata": {},
   "outputs": [],
   "source": [
    "count = 0\n",
    "preprocessed_index = {}\n",
    "for i in preprocessed_df.itertuples():\n",
    "    \n",
    "    if count % 1000 == 0:\n",
    "        print(count)\n",
    "\n",
    "    count += 1\n",
    "    ind = i.Index\n",
    "    text = i.preprocessed_text\n",
    "    \n",
    "    all_pred = []\n",
    "    for each_sent in text:\n",
    "        try:\n",
    "            doc = med7(each_sent)\n",
    "            result = ([(ent.text, ent.label_) for ent in doc.ents])\n",
    "            if len(result) == 0: continue\n",
    "            all_pred.append(result)\n",
    "        except:\n",
    "            print(\"error..\")\n",
    "            continue\n",
    "    preprocessed_df.at[ind, 'ner'] = all_pred"
   ]
  },
  {
   "cell_type": "code",
   "execution_count": null,
   "metadata": {},
   "outputs": [],
   "source": [
    "pd.to_pickle(preprocessed_df, \"data/ner_df.p\")"
   ]
  }
 ],
 "metadata": {
  "kernelspec": {
   "display_name": "Python [conda env:DLH_project_py38] *",
   "language": "python",
   "name": "conda-env-DLH_project_py38-py"
  },
  "language_info": {
   "codemirror_mode": {
    "name": "ipython",
    "version": 3
   },
   "file_extension": ".py",
   "mimetype": "text/x-python",
   "name": "python",
   "nbconvert_exporter": "python",
   "pygments_lexer": "ipython3",
   "version": "3.8.16"
  }
 },
 "nbformat": 4,
 "nbformat_minor": 4
}
