{
 "cells": [
  {
   "cell_type": "code",
   "execution_count": 2,
   "metadata": {},
   "outputs": [
    {
     "name": "stdout",
     "output_type": "stream",
     "text": [
      "Collecting en-core-med7-lg==any\n",
      "  Downloading https://huggingface.co/kormilitzin/en_core_med7_lg/resolve/main/en_core_med7_lg-any-py3-none-any.whl (607.4 MB)\n",
      "\u001b[2K     \u001b[38;2;114;156;31m━━━━━━━━━━━━━━━━━━━━━━━━━━━━━━━━━━━━━━━\u001b[0m \u001b[32m607.4/607.4 MB\u001b[0m \u001b[31m2.0 MB/s\u001b[0m eta \u001b[36m0:00:00\u001b[0mm eta \u001b[36m0:00:01\u001b[0m[36m0:00:02\u001b[0m\n",
      "\u001b[?25hCollecting spacy<3.5.0,>=3.4.2\n",
      "  Downloading spacy-3.4.4-cp38-cp38-macosx_10_9_x86_64.whl (6.6 MB)\n",
      "\u001b[2K     \u001b[38;2;114;156;31m━━━━━━━━━━━━━━━━━━━━━━━━━━━━━━━━━━━━━━━━\u001b[0m \u001b[32m6.6/6.6 MB\u001b[0m \u001b[31m3.9 MB/s\u001b[0m eta \u001b[36m0:00:00\u001b[0mm eta \u001b[36m0:00:01\u001b[0m[36m0:00:01\u001b[0m\n",
      "\u001b[?25hRequirement already satisfied: murmurhash<1.1.0,>=0.28.0 in /Users/sweenke4/opt/anaconda3/envs/DLH_project_py38/lib/python3.8/site-packages (from spacy<3.5.0,>=3.4.2->en-core-med7-lg==any) (1.0.9)\n",
      "Requirement already satisfied: requests<3.0.0,>=2.13.0 in /Users/sweenke4/opt/anaconda3/envs/DLH_project_py38/lib/python3.8/site-packages (from spacy<3.5.0,>=3.4.2->en-core-med7-lg==any) (2.28.2)\n",
      "Requirement already satisfied: spacy-legacy<3.1.0,>=3.0.10 in /Users/sweenke4/opt/anaconda3/envs/DLH_project_py38/lib/python3.8/site-packages (from spacy<3.5.0,>=3.4.2->en-core-med7-lg==any) (3.0.12)\n",
      "Requirement already satisfied: catalogue<2.1.0,>=2.0.6 in /Users/sweenke4/opt/anaconda3/envs/DLH_project_py38/lib/python3.8/site-packages (from spacy<3.5.0,>=3.4.2->en-core-med7-lg==any) (2.0.8)\n",
      "Requirement already satisfied: pathy>=0.3.5 in /Users/sweenke4/opt/anaconda3/envs/DLH_project_py38/lib/python3.8/site-packages (from spacy<3.5.0,>=3.4.2->en-core-med7-lg==any) (0.10.1)\n",
      "Requirement already satisfied: packaging>=20.0 in /Users/sweenke4/opt/anaconda3/envs/DLH_project_py38/lib/python3.8/site-packages (from spacy<3.5.0,>=3.4.2->en-core-med7-lg==any) (21.3)\n",
      "Requirement already satisfied: langcodes<4.0.0,>=3.2.0 in /Users/sweenke4/opt/anaconda3/envs/DLH_project_py38/lib/python3.8/site-packages (from spacy<3.5.0,>=3.4.2->en-core-med7-lg==any) (3.3.0)\n",
      "Requirement already satisfied: smart-open<7.0.0,>=5.2.1 in /Users/sweenke4/opt/anaconda3/envs/DLH_project_py38/lib/python3.8/site-packages (from spacy<3.5.0,>=3.4.2->en-core-med7-lg==any) (5.2.1)\n",
      "Requirement already satisfied: jinja2 in /Users/sweenke4/opt/anaconda3/envs/DLH_project_py38/lib/python3.8/site-packages (from spacy<3.5.0,>=3.4.2->en-core-med7-lg==any) (3.1.2)\n",
      "Requirement already satisfied: cymem<2.1.0,>=2.0.2 in /Users/sweenke4/opt/anaconda3/envs/DLH_project_py38/lib/python3.8/site-packages (from spacy<3.5.0,>=3.4.2->en-core-med7-lg==any) (2.0.7)\n",
      "Requirement already satisfied: spacy-loggers<2.0.0,>=1.0.0 in /Users/sweenke4/opt/anaconda3/envs/DLH_project_py38/lib/python3.8/site-packages (from spacy<3.5.0,>=3.4.2->en-core-med7-lg==any) (1.0.4)\n",
      "Collecting wasabi<1.1.0,>=0.9.1\n",
      "  Downloading wasabi-0.10.1-py3-none-any.whl (26 kB)\n",
      "Requirement already satisfied: srsly<3.0.0,>=2.4.3 in /Users/sweenke4/opt/anaconda3/envs/DLH_project_py38/lib/python3.8/site-packages (from spacy<3.5.0,>=3.4.2->en-core-med7-lg==any) (2.4.6)\n",
      "Requirement already satisfied: pydantic!=1.8,!=1.8.1,<1.11.0,>=1.7.4 in /Users/sweenke4/opt/anaconda3/envs/DLH_project_py38/lib/python3.8/site-packages (from spacy<3.5.0,>=3.4.2->en-core-med7-lg==any) (1.10.7)\n",
      "Requirement already satisfied: preshed<3.1.0,>=3.0.2 in /Users/sweenke4/opt/anaconda3/envs/DLH_project_py38/lib/python3.8/site-packages (from spacy<3.5.0,>=3.4.2->en-core-med7-lg==any) (3.0.8)\n",
      "Requirement already satisfied: thinc<8.2.0,>=8.1.0 in /Users/sweenke4/opt/anaconda3/envs/DLH_project_py38/lib/python3.8/site-packages (from spacy<3.5.0,>=3.4.2->en-core-med7-lg==any) (8.1.9)\n",
      "Requirement already satisfied: typer<0.8.0,>=0.3.0 in /Users/sweenke4/opt/anaconda3/envs/DLH_project_py38/lib/python3.8/site-packages (from spacy<3.5.0,>=3.4.2->en-core-med7-lg==any) (0.7.0)\n",
      "Requirement already satisfied: tqdm<5.0.0,>=4.38.0 in /Users/sweenke4/opt/anaconda3/envs/DLH_project_py38/lib/python3.8/site-packages (from spacy<3.5.0,>=3.4.2->en-core-med7-lg==any) (4.65.0)\n",
      "Requirement already satisfied: setuptools in /Users/sweenke4/opt/anaconda3/envs/DLH_project_py38/lib/python3.8/site-packages (from spacy<3.5.0,>=3.4.2->en-core-med7-lg==any) (65.6.3)\n",
      "Requirement already satisfied: numpy>=1.15.0 in /Users/sweenke4/opt/anaconda3/envs/DLH_project_py38/lib/python3.8/site-packages (from spacy<3.5.0,>=3.4.2->en-core-med7-lg==any) (1.22.3)\n",
      "Requirement already satisfied: pyparsing!=3.0.5,>=2.0.2 in /Users/sweenke4/opt/anaconda3/envs/DLH_project_py38/lib/python3.8/site-packages (from packaging>=20.0->spacy<3.5.0,>=3.4.2->en-core-med7-lg==any) (3.0.4)\n",
      "Requirement already satisfied: typing-extensions>=4.2.0 in /Users/sweenke4/opt/anaconda3/envs/DLH_project_py38/lib/python3.8/site-packages (from pydantic!=1.8,!=1.8.1,<1.11.0,>=1.7.4->spacy<3.5.0,>=3.4.2->en-core-med7-lg==any) (4.5.0)\n",
      "Requirement already satisfied: urllib3<1.27,>=1.21.1 in /Users/sweenke4/opt/anaconda3/envs/DLH_project_py38/lib/python3.8/site-packages (from requests<3.0.0,>=2.13.0->spacy<3.5.0,>=3.4.2->en-core-med7-lg==any) (1.26.15)\n",
      "Requirement already satisfied: idna<4,>=2.5 in /Users/sweenke4/opt/anaconda3/envs/DLH_project_py38/lib/python3.8/site-packages (from requests<3.0.0,>=2.13.0->spacy<3.5.0,>=3.4.2->en-core-med7-lg==any) (3.4)\n",
      "Requirement already satisfied: charset-normalizer<4,>=2 in /Users/sweenke4/opt/anaconda3/envs/DLH_project_py38/lib/python3.8/site-packages (from requests<3.0.0,>=2.13.0->spacy<3.5.0,>=3.4.2->en-core-med7-lg==any) (2.1.1)\n",
      "Requirement already satisfied: certifi>=2017.4.17 in /Users/sweenke4/opt/anaconda3/envs/DLH_project_py38/lib/python3.8/site-packages (from requests<3.0.0,>=2.13.0->spacy<3.5.0,>=3.4.2->en-core-med7-lg==any) (2022.12.7)\n",
      "Requirement already satisfied: blis<0.8.0,>=0.7.8 in /Users/sweenke4/opt/anaconda3/envs/DLH_project_py38/lib/python3.8/site-packages (from thinc<8.2.0,>=8.1.0->spacy<3.5.0,>=3.4.2->en-core-med7-lg==any) (0.7.9)\n",
      "Requirement already satisfied: confection<1.0.0,>=0.0.1 in /Users/sweenke4/opt/anaconda3/envs/DLH_project_py38/lib/python3.8/site-packages (from thinc<8.2.0,>=8.1.0->spacy<3.5.0,>=3.4.2->en-core-med7-lg==any) (0.0.4)\n",
      "Requirement already satisfied: click<9.0.0,>=7.1.1 in /Users/sweenke4/opt/anaconda3/envs/DLH_project_py38/lib/python3.8/site-packages (from typer<0.8.0,>=0.3.0->spacy<3.5.0,>=3.4.2->en-core-med7-lg==any) (8.1.3)\n",
      "Requirement already satisfied: MarkupSafe>=2.0 in /Users/sweenke4/opt/anaconda3/envs/DLH_project_py38/lib/python3.8/site-packages (from jinja2->spacy<3.5.0,>=3.4.2->en-core-med7-lg==any) (2.1.2)\n",
      "Installing collected packages: wasabi, spacy, en-core-med7-lg\n",
      "  Attempting uninstall: wasabi\n",
      "    Found existing installation: wasabi 1.1.1\n",
      "    Uninstalling wasabi-1.1.1:\n",
      "      Successfully uninstalled wasabi-1.1.1\n",
      "  Attempting uninstall: spacy\n",
      "    Found existing installation: spacy 3.5.1\n",
      "    Uninstalling spacy-3.5.1:\n",
      "      Successfully uninstalled spacy-3.5.1\n",
      "Successfully installed en-core-med7-lg-3.4.2.1 spacy-3.4.4 wasabi-0.10.1\n"
     ]
    }
   ],
   "source": [
    "!pip install https://huggingface.co/kormilitzin/en_core_med7_lg/resolve/main/en_core_med7_lg-any-py3-none-any.whl"
   ]
  },
  {
   "cell_type": "code",
   "execution_count": 3,
   "metadata": {},
   "outputs": [
    {
     "name": "stderr",
     "output_type": "stream",
     "text": [
      "/Users/sweenke4/opt/anaconda3/envs/DLH_project_py38/lib/python3.8/site-packages/spacy/util.py:887: UserWarning: [W095] Model 'en_core_med7_lg' (3.4.2.1) was trained with spaCy v3.4 and may not be 100% compatible with the current version (3.5.1). If you see errors or degraded performance, download a newer compatible model or retrain your custom model with the current spaCy version. For more details and available updates, run: python -m spacy validate\n",
      "  warnings.warn(warn_msg)\n"
     ]
    }
   ],
   "source": [
    "import pandas as pd\n",
    "import spacy\n",
    "\n",
    "med7 = spacy.load(\"en_core_med7_lg\")"
   ]
  },
  {
   "cell_type": "code",
   "execution_count": 4,
   "metadata": {},
   "outputs": [],
   "source": [
    "preprocessed_df = pd.read_pickle(\"data/preprocessed_notes.p\")"
   ]
  },
  {
   "cell_type": "code",
   "execution_count": 5,
   "metadata": {},
   "outputs": [],
   "source": [
    "preprocessed_df['ner'] = None"
   ]
  },
  {
   "cell_type": "code",
   "execution_count": null,
   "metadata": {},
   "outputs": [
    {
     "name": "stdout",
     "output_type": "stream",
     "text": [
      "0\n",
      "1000\n",
      "2000\n",
      "3000\n",
      "4000\n",
      "5000\n",
      "6000\n",
      "7000\n",
      "8000\n",
      "9000\n",
      "10000\n"
     ]
    }
   ],
   "source": [
    "count = 0\n",
    "preprocessed_index = {}\n",
    "for i in preprocessed_df.itertuples():\n",
    "    \n",
    "    if count % 1000 == 0:\n",
    "        print(count)\n",
    "\n",
    "    count += 1\n",
    "    ind = i.Index\n",
    "    text = i.preprocessed_text\n",
    "    \n",
    "    all_pred = []\n",
    "    for each_sent in text:\n",
    "        try:\n",
    "            doc = med7(each_sent)\n",
    "            result = ([(ent.text, ent.label_) for ent in doc.ents])\n",
    "            if len(result) == 0: continue\n",
    "            all_pred.append(result)\n",
    "        except:\n",
    "            print(\"error..\")\n",
    "            continue\n",
    "    preprocessed_df.at[ind, 'ner'] = all_pred"
   ]
  },
  {
   "cell_type": "code",
   "execution_count": null,
   "metadata": {},
   "outputs": [],
   "source": [
    "pd.to_pickle(preprocessed_df, \"data/ner_df.p\")"
   ]
  },
  {
   "cell_type": "code",
   "execution_count": null,
   "metadata": {},
   "outputs": [],
   "source": []
  }
 ],
 "metadata": {
  "kernelspec": {
   "display_name": "Python [conda env:DLH_project_py38] *",
   "language": "python",
   "name": "conda-env-DLH_project_py38-py"
  },
  "language_info": {
   "codemirror_mode": {
    "name": "ipython",
    "version": 3
   },
   "file_extension": ".py",
   "mimetype": "text/x-python",
   "name": "python",
   "nbconvert_exporter": "python",
   "pygments_lexer": "ipython3",
   "version": "3.8.16"
  }
 },
 "nbformat": 4,
 "nbformat_minor": 4
}
