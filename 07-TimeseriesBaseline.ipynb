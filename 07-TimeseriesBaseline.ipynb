{
 "cells": [
  {
   "cell_type": "code",
   "execution_count": 15,
   "metadata": {},
   "outputs": [],
   "source": [
    "import pandas as pd\n",
    "import os\n",
    "import numpy as np\n",
    "from gensim.models import Word2Vec, FastText\n",
    "from mittens import GloVe as glove\n",
    "# from glove import Corpus\n",
    "\n",
    "import collections\n",
    "import gc \n",
    "\n",
    "import keras\n",
    "from keras import backend as K\n",
    "from keras import regularizers\n",
    "from keras.models import Sequential, Model\n",
    "from keras.layers import Flatten, Dense, Dropout, Input, concatenate, Activation, Concatenate, LSTM, GRU\n",
    "from keras.layers import Input, Conv2D, MaxPooling2D, UpSampling2D, Conv1D, BatchNormalization, GRU, Convolution1D, LSTM\n",
    "from keras.layers import UpSampling1D, MaxPooling1D, GlobalMaxPooling1D, GlobalAveragePooling1D,MaxPool1D\n",
    "\n",
    "from keras.optimizers import Adam\n",
    "\n",
    "from keras.callbacks import EarlyStopping, ModelCheckpoint, History, ReduceLROnPlateau\n",
    "from keras.utils import np_utils\n",
    "import tensorflow as tf\n",
    "# from tensorflow.keras.backend import set_session, clear_session, get_session\n",
    "\n",
    "\n",
    "from sklearn.utils import class_weight\n",
    "from sklearn.metrics import average_precision_score, roc_auc_score, accuracy_score, f1_score\n",
    "\n",
    "import warnings\n",
    "warnings.filterwarnings('ignore')"
   ]
  },
  {
   "cell_type": "code",
   "execution_count": 16,
   "metadata": {},
   "outputs": [],
   "source": [
    "# Reset Keras Session\n",
    "def reset_keras(model):\n",
    "    sess = tf.compat.v1.keras.backend.get_session()\n",
    "    tf.keras.backend.clear_session()\n",
    "    sess.close()\n",
    "    sess = tf.compat.v1.keras.backend.get_session()\n",
    "\n",
    "    try:\n",
    "        del model # this is from global space - change this as you need\n",
    "    except:\n",
    "        pass\n",
    "\n",
    "    gc.collect() # if it's done something you should see a number being outputted\n",
    "\n",
    "def make_prediction_timeseries(model, test_data):\n",
    "    probs = model.predict(test_data)\n",
    "    y_pred = [1 if i>=0.5 else 0 for i in probs]\n",
    "    return probs, y_pred\n",
    "\n",
    "def save_scores_timeseries(predictions, probs, ground_truth, model_name, \n",
    "                problem_type, iteration, hidden_unit_size, type_of_ner):\n",
    "    \n",
    "    auc = roc_auc_score(ground_truth, probs)\n",
    "    auprc = average_precision_score(ground_truth, probs)\n",
    "    acc   = accuracy_score(ground_truth, predictions)\n",
    "    F1    = f1_score(ground_truth, predictions)\n",
    "    \n",
    "    \n",
    "    result_dict = {}    \n",
    "    result_dict['auc'] = auc\n",
    "    result_dict['auprc'] = auprc\n",
    "    result_dict['acc'] = acc\n",
    "    result_dict['F1'] = F1\n",
    "\n",
    "        \n",
    "    file_name = str(hidden_unit_size)+\"-\"+model_name+\"-\"+problem_type+\"-\"+str(iteration)+\"-\"+type_of_ner+\".p\"\n",
    "    \n",
    "    result_path = \"results/\"\n",
    "    pd.to_pickle(result_dict, os.path.join(result_path, file_name))\n",
    "\n",
    "    print(auc, auprc, acc, F1)"
   ]
  },
  {
   "cell_type": "code",
   "execution_count": 17,
   "metadata": {},
   "outputs": [],
   "source": [
    "def timeseries_model(layer_name, number_of_unit):\n",
    "    tf.keras.backend.clear_session()\n",
    "    \n",
    "    sequence_input = Input(shape=(24,104),  name = \"timeseries_input\")\n",
    "    \n",
    "    if layer_name == \"LSTM\":\n",
    "        x = LSTM(number_of_unit)(sequence_input)\n",
    "    else:\n",
    "        x = GRU(number_of_unit)(sequence_input)\n",
    "    \n",
    "    logits_regularizer = tf.keras.regularizers.l2(0.01)\n",
    "    sigmoid_pred = Dense(1, activation='sigmoid',use_bias=False,\n",
    "                         kernel_initializer=tf.keras.initializers.GlorotUniform(), \n",
    "                  kernel_regularizer=logits_regularizer)(x)\n",
    "    \n",
    "    \n",
    "    model = Model(inputs=sequence_input, outputs=sigmoid_pred)\n",
    "    \n",
    "    model.compile(loss='binary_crossentropy', optimizer='adam', metrics=['acc'])\n",
    "    \n",
    "    return model"
   ]
  },
  {
   "cell_type": "code",
   "execution_count": 18,
   "metadata": {},
   "outputs": [],
   "source": [
    "type_of_ner = \"new\"\n",
    "\n",
    "x_train_lstm = pd.read_pickle(\"data/\"+type_of_ner+\"_x_train.pkl\")\n",
    "x_dev_lstm = pd.read_pickle(\"data/\"+type_of_ner+\"_x_dev.pkl\")\n",
    "x_test_lstm = pd.read_pickle(\"data/\"+type_of_ner+\"_x_test.pkl\")\n",
    "\n",
    "y_train = pd.read_pickle(\"data/\"+type_of_ner+\"_y_train.pkl\")\n",
    "y_dev = pd.read_pickle(\"data/\"+type_of_ner+\"_y_dev.pkl\")\n",
    "y_test = pd.read_pickle(\"data/\"+type_of_ner+\"_y_test.pkl\")"
   ]
  },
  {
   "cell_type": "code",
   "execution_count": null,
   "metadata": {},
   "outputs": [
    {
     "name": "stdout",
     "output_type": "stream",
     "text": [
      "Layer:  LSTM\n",
      "Hidden unit:  128\n",
      "Problem type:  mort_hosp\n",
      "Iteration number:  1\n",
      "__________________\n",
      "WARNING:tensorflow:`period` argument is deprecated. Please use `save_freq` to specify the frequency in number of batches seen.\n"
     ]
    },
    {
     "name": "stderr",
     "output_type": "stream",
     "text": [
      "2023-04-03 21:54:10.583136: W tensorflow/c/c_api.cc:300] Operation '{name:'training/Adam/lstm/lstm_cell/bias/m/Assign' id:565 op device:{requested: '', assigned: ''} def:{{{node training/Adam/lstm/lstm_cell/bias/m/Assign}} = AssignVariableOp[_has_manual_control_dependencies=true, dtype=DT_FLOAT, validate_shape=false](training/Adam/lstm/lstm_cell/bias/m, training/Adam/lstm/lstm_cell/bias/m/Initializer/zeros)}}' was changed by setting attribute after it was run by a session. This mutation will have no effect, and will trigger an error in the future. Either don't modify nodes after running them or create a new session.\n",
      "2023-04-03 21:54:14.961853: W tensorflow/c/c_api.cc:300] Operation '{name:'loss/AddN' id:342 op device:{requested: '', assigned: ''} def:{{{node loss/AddN}} = AddN[N=2, T=DT_FLOAT, _has_manual_control_dependencies=true](loss/mul, loss/dense/kernel/Regularizer/mul)}}' was changed by setting attribute after it was run by a session. This mutation will have no effect, and will trigger an error in the future. Either don't modify nodes after running them or create a new session.\n",
      "2023-04-03 21:54:36.866716: W tensorflow/c/c_api.cc:300] Operation '{name:'dense/Sigmoid' id:276 op device:{requested: '', assigned: ''} def:{{{node dense/Sigmoid}} = Sigmoid[T=DT_FLOAT, _has_manual_control_dependencies=true](dense/MatMul)}}' was changed by setting attribute after it was run by a session. This mutation will have no effect, and will trigger an error in the future. Either don't modify nodes after running them or create a new session.\n"
     ]
    },
    {
     "name": "stdout",
     "output_type": "stream",
     "text": [
      "0.8738351737139779 0.5594929268985769 0.9147058823529411 0.44313146233382567\n",
      "Layer:  LSTM\n",
      "Hidden unit:  128\n",
      "Problem type:  mort_icu\n",
      "Iteration number:  1\n",
      "__________________\n",
      "WARNING:tensorflow:`period` argument is deprecated. Please use `save_freq` to specify the frequency in number of batches seen.\n"
     ]
    },
    {
     "name": "stderr",
     "output_type": "stream",
     "text": [
      "2023-04-03 21:54:38.231726: W tensorflow/c/c_api.cc:300] Operation '{name:'training/Adam/lstm/lstm_cell/recurrent_kernel/v/Assign' id:584 op device:{requested: '', assigned: ''} def:{{{node training/Adam/lstm/lstm_cell/recurrent_kernel/v/Assign}} = AssignVariableOp[_has_manual_control_dependencies=true, dtype=DT_FLOAT, validate_shape=false](training/Adam/lstm/lstm_cell/recurrent_kernel/v, training/Adam/lstm/lstm_cell/recurrent_kernel/v/Initializer/zeros)}}' was changed by setting attribute after it was run by a session. This mutation will have no effect, and will trigger an error in the future. Either don't modify nodes after running them or create a new session.\n",
      "2023-04-03 21:54:42.363016: W tensorflow/c/c_api.cc:300] Operation '{name:'loss/AddN' id:342 op device:{requested: '', assigned: ''} def:{{{node loss/AddN}} = AddN[N=2, T=DT_FLOAT, _has_manual_control_dependencies=true](loss/mul, loss/dense/kernel/Regularizer/mul)}}' was changed by setting attribute after it was run by a session. This mutation will have no effect, and will trigger an error in the future. Either don't modify nodes after running them or create a new session.\n",
      "2023-04-03 21:55:04.778443: W tensorflow/c/c_api.cc:300] Operation '{name:'dense/Sigmoid' id:276 op device:{requested: '', assigned: ''} def:{{{node dense/Sigmoid}} = Sigmoid[T=DT_FLOAT, _has_manual_control_dependencies=true](dense/MatMul)}}' was changed by setting attribute after it was run by a session. This mutation will have no effect, and will trigger an error in the future. Either don't modify nodes after running them or create a new session.\n"
     ]
    },
    {
     "name": "stdout",
     "output_type": "stream",
     "text": [
      "0.888961972837303 0.5200978042516514 0.9395927601809955 0.4539877300613497\n",
      "Layer:  LSTM\n",
      "Hidden unit:  128\n",
      "Problem type:  los_3\n",
      "Iteration number:  1\n",
      "__________________\n",
      "WARNING:tensorflow:`period` argument is deprecated. Please use `save_freq` to specify the frequency in number of batches seen.\n"
     ]
    },
    {
     "name": "stderr",
     "output_type": "stream",
     "text": [
      "2023-04-03 21:55:06.379667: W tensorflow/c/c_api.cc:300] Operation '{name:'training/Adam/lstm/lstm_cell/kernel/v/Assign' id:577 op device:{requested: '', assigned: ''} def:{{{node training/Adam/lstm/lstm_cell/kernel/v/Assign}} = AssignVariableOp[_has_manual_control_dependencies=true, dtype=DT_FLOAT, validate_shape=false](training/Adam/lstm/lstm_cell/kernel/v, training/Adam/lstm/lstm_cell/kernel/v/Initializer/zeros)}}' was changed by setting attribute after it was run by a session. This mutation will have no effect, and will trigger an error in the future. Either don't modify nodes after running them or create a new session.\n",
      "2023-04-03 21:55:11.013526: W tensorflow/c/c_api.cc:300] Operation '{name:'loss/AddN' id:342 op device:{requested: '', assigned: ''} def:{{{node loss/AddN}} = AddN[N=2, T=DT_FLOAT, _has_manual_control_dependencies=true](loss/mul, loss/dense/kernel/Regularizer/mul)}}' was changed by setting attribute after it was run by a session. This mutation will have no effect, and will trigger an error in the future. Either don't modify nodes after running them or create a new session.\n",
      "2023-04-03 21:55:34.870413: W tensorflow/c/c_api.cc:300] Operation '{name:'dense/Sigmoid' id:276 op device:{requested: '', assigned: ''} def:{{{node dense/Sigmoid}} = Sigmoid[T=DT_FLOAT, _has_manual_control_dependencies=true](dense/MatMul)}}' was changed by setting attribute after it was run by a session. This mutation will have no effect, and will trigger an error in the future. Either don't modify nodes after running them or create a new session.\n"
     ]
    },
    {
     "name": "stdout",
     "output_type": "stream",
     "text": [
      "0.6878101625431532 0.6242655232714956 0.6554298642533937 0.5867028493894165\n",
      "Layer:  LSTM\n",
      "Hidden unit:  128\n",
      "Problem type:  los_7\n",
      "Iteration number:  1\n",
      "__________________\n",
      "WARNING:tensorflow:`period` argument is deprecated. Please use `save_freq` to specify the frequency in number of batches seen.\n"
     ]
    },
    {
     "name": "stderr",
     "output_type": "stream",
     "text": [
      "2023-04-03 21:55:36.640232: W tensorflow/c/c_api.cc:300] Operation '{name:'training/Adam/lstm/lstm_cell/recurrent_kernel/v/Assign' id:584 op device:{requested: '', assigned: ''} def:{{{node training/Adam/lstm/lstm_cell/recurrent_kernel/v/Assign}} = AssignVariableOp[_has_manual_control_dependencies=true, dtype=DT_FLOAT, validate_shape=false](training/Adam/lstm/lstm_cell/recurrent_kernel/v, training/Adam/lstm/lstm_cell/recurrent_kernel/v/Initializer/zeros)}}' was changed by setting attribute after it was run by a session. This mutation will have no effect, and will trigger an error in the future. Either don't modify nodes after running them or create a new session.\n",
      "2023-04-03 21:55:41.518594: W tensorflow/c/c_api.cc:300] Operation '{name:'loss/AddN' id:342 op device:{requested: '', assigned: ''} def:{{{node loss/AddN}} = AddN[N=2, T=DT_FLOAT, _has_manual_control_dependencies=true](loss/mul, loss/dense/kernel/Regularizer/mul)}}' was changed by setting attribute after it was run by a session. This mutation will have no effect, and will trigger an error in the future. Either don't modify nodes after running them or create a new session.\n",
      "2023-04-03 21:56:06.670783: W tensorflow/c/c_api.cc:300] Operation '{name:'dense/Sigmoid' id:276 op device:{requested: '', assigned: ''} def:{{{node dense/Sigmoid}} = Sigmoid[T=DT_FLOAT, _has_manual_control_dependencies=true](dense/MatMul)}}' was changed by setting attribute after it was run by a session. This mutation will have no effect, and will trigger an error in the future. Either don't modify nodes after running them or create a new session.\n"
     ]
    },
    {
     "name": "stdout",
     "output_type": "stream",
     "text": [
      "0.7257542445971744 0.18897471984205616 0.9169683257918552 0.0160857908847185\n",
      "Layer:  LSTM\n",
      "Hidden unit:  128\n",
      "Problem type:  mort_hosp\n",
      "Iteration number:  2\n",
      "__________________\n",
      "WARNING:tensorflow:`period` argument is deprecated. Please use `save_freq` to specify the frequency in number of batches seen.\n"
     ]
    },
    {
     "name": "stderr",
     "output_type": "stream",
     "text": [
      "2023-04-03 21:56:08.310218: W tensorflow/c/c_api.cc:300] Operation '{name:'training/Adam/lstm/lstm_cell/bias/v/Assign' id:589 op device:{requested: '', assigned: ''} def:{{{node training/Adam/lstm/lstm_cell/bias/v/Assign}} = AssignVariableOp[_has_manual_control_dependencies=true, dtype=DT_FLOAT, validate_shape=false](training/Adam/lstm/lstm_cell/bias/v, training/Adam/lstm/lstm_cell/bias/v/Initializer/zeros)}}' was changed by setting attribute after it was run by a session. This mutation will have no effect, and will trigger an error in the future. Either don't modify nodes after running them or create a new session.\n",
      "2023-04-03 21:56:14.032541: W tensorflow/c/c_api.cc:300] Operation '{name:'loss/AddN' id:342 op device:{requested: '', assigned: ''} def:{{{node loss/AddN}} = AddN[N=2, T=DT_FLOAT, _has_manual_control_dependencies=true](loss/mul, loss/dense/kernel/Regularizer/mul)}}' was changed by setting attribute after it was run by a session. This mutation will have no effect, and will trigger an error in the future. Either don't modify nodes after running them or create a new session.\n",
      "2023-04-03 21:56:37.935051: W tensorflow/c/c_api.cc:300] Operation '{name:'dense/Sigmoid' id:276 op device:{requested: '', assigned: ''} def:{{{node dense/Sigmoid}} = Sigmoid[T=DT_FLOAT, _has_manual_control_dependencies=true](dense/MatMul)}}' was changed by setting attribute after it was run by a session. This mutation will have no effect, and will trigger an error in the future. Either don't modify nodes after running them or create a new session.\n"
     ]
    },
    {
     "name": "stdout",
     "output_type": "stream",
     "text": [
      "0.8763140317802317 0.5538159114205481 0.9142533936651583 0.4334828101644246\n",
      "Layer:  LSTM\n",
      "Hidden unit:  128\n",
      "Problem type:  mort_icu\n",
      "Iteration number:  2\n",
      "__________________\n",
      "WARNING:tensorflow:`period` argument is deprecated. Please use `save_freq` to specify the frequency in number of batches seen.\n"
     ]
    },
    {
     "name": "stderr",
     "output_type": "stream",
     "text": [
      "2023-04-03 21:56:39.706480: W tensorflow/c/c_api.cc:300] Operation '{name:'training/Adam/lstm/lstm_cell/recurrent_kernel/v/Assign' id:584 op device:{requested: '', assigned: ''} def:{{{node training/Adam/lstm/lstm_cell/recurrent_kernel/v/Assign}} = AssignVariableOp[_has_manual_control_dependencies=true, dtype=DT_FLOAT, validate_shape=false](training/Adam/lstm/lstm_cell/recurrent_kernel/v, training/Adam/lstm/lstm_cell/recurrent_kernel/v/Initializer/zeros)}}' was changed by setting attribute after it was run by a session. This mutation will have no effect, and will trigger an error in the future. Either don't modify nodes after running them or create a new session.\n",
      "2023-04-03 21:56:45.575286: W tensorflow/c/c_api.cc:300] Operation '{name:'loss/AddN' id:342 op device:{requested: '', assigned: ''} def:{{{node loss/AddN}} = AddN[N=2, T=DT_FLOAT, _has_manual_control_dependencies=true](loss/mul, loss/dense/kernel/Regularizer/mul)}}' was changed by setting attribute after it was run by a session. This mutation will have no effect, and will trigger an error in the future. Either don't modify nodes after running them or create a new session.\n",
      "2023-04-03 21:57:08.374045: W tensorflow/c/c_api.cc:300] Operation '{name:'dense/Sigmoid' id:276 op device:{requested: '', assigned: ''} def:{{{node dense/Sigmoid}} = Sigmoid[T=DT_FLOAT, _has_manual_control_dependencies=true](dense/MatMul)}}' was changed by setting attribute after it was run by a session. This mutation will have no effect, and will trigger an error in the future. Either don't modify nodes after running them or create a new session.\n"
     ]
    },
    {
     "name": "stdout",
     "output_type": "stream",
     "text": [
      "0.8771936683746847 0.5013956352747216 0.9398190045248869 0.4088888888888889\n",
      "Layer:  LSTM\n",
      "Hidden unit:  128\n",
      "Problem type:  los_3\n",
      "Iteration number:  2\n",
      "__________________\n",
      "WARNING:tensorflow:`period` argument is deprecated. Please use `save_freq` to specify the frequency in number of batches seen.\n"
     ]
    },
    {
     "name": "stderr",
     "output_type": "stream",
     "text": [
      "2023-04-03 21:57:10.026502: W tensorflow/c/c_api.cc:300] Operation '{name:'training/Adam/dense/kernel/m/Assign' id:570 op device:{requested: '', assigned: ''} def:{{{node training/Adam/dense/kernel/m/Assign}} = AssignVariableOp[_has_manual_control_dependencies=true, dtype=DT_FLOAT, validate_shape=false](training/Adam/dense/kernel/m, training/Adam/dense/kernel/m/Initializer/zeros)}}' was changed by setting attribute after it was run by a session. This mutation will have no effect, and will trigger an error in the future. Either don't modify nodes after running them or create a new session.\n",
      "2023-04-03 21:57:15.161166: W tensorflow/c/c_api.cc:300] Operation '{name:'loss/AddN' id:342 op device:{requested: '', assigned: ''} def:{{{node loss/AddN}} = AddN[N=2, T=DT_FLOAT, _has_manual_control_dependencies=true](loss/mul, loss/dense/kernel/Regularizer/mul)}}' was changed by setting attribute after it was run by a session. This mutation will have no effect, and will trigger an error in the future. Either don't modify nodes after running them or create a new session.\n",
      "2023-04-03 21:57:41.391896: W tensorflow/c/c_api.cc:300] Operation '{name:'dense/Sigmoid' id:276 op device:{requested: '', assigned: ''} def:{{{node dense/Sigmoid}} = Sigmoid[T=DT_FLOAT, _has_manual_control_dependencies=true](dense/MatMul)}}' was changed by setting attribute after it was run by a session. This mutation will have no effect, and will trigger an error in the future. Either don't modify nodes after running them or create a new session.\n"
     ]
    },
    {
     "name": "stdout",
     "output_type": "stream",
     "text": [
      "0.6958086346241337 0.6361303117584092 0.6608597285067873 0.5589879376287143\n",
      "Layer:  LSTM\n",
      "Hidden unit:  128\n",
      "Problem type:  los_7\n",
      "Iteration number:  2\n",
      "__________________\n",
      "WARNING:tensorflow:`period` argument is deprecated. Please use `save_freq` to specify the frequency in number of batches seen.\n"
     ]
    },
    {
     "name": "stderr",
     "output_type": "stream",
     "text": [
      "2023-04-03 21:57:43.208862: W tensorflow/c/c_api.cc:300] Operation '{name:'training/Adam/learning_rate/Assign' id:546 op device:{requested: '', assigned: ''} def:{{{node training/Adam/learning_rate/Assign}} = AssignVariableOp[_has_manual_control_dependencies=true, dtype=DT_FLOAT, validate_shape=false](training/Adam/learning_rate, training/Adam/learning_rate/Initializer/initial_value)}}' was changed by setting attribute after it was run by a session. This mutation will have no effect, and will trigger an error in the future. Either don't modify nodes after running them or create a new session.\n",
      "2023-04-03 21:57:48.808226: W tensorflow/c/c_api.cc:300] Operation '{name:'loss/AddN' id:342 op device:{requested: '', assigned: ''} def:{{{node loss/AddN}} = AddN[N=2, T=DT_FLOAT, _has_manual_control_dependencies=true](loss/mul, loss/dense/kernel/Regularizer/mul)}}' was changed by setting attribute after it was run by a session. This mutation will have no effect, and will trigger an error in the future. Either don't modify nodes after running them or create a new session.\n",
      "2023-04-03 21:58:12.057991: W tensorflow/c/c_api.cc:300] Operation '{name:'dense/Sigmoid' id:276 op device:{requested: '', assigned: ''} def:{{{node dense/Sigmoid}} = Sigmoid[T=DT_FLOAT, _has_manual_control_dependencies=true](dense/MatMul)}}' was changed by setting attribute after it was run by a session. This mutation will have no effect, and will trigger an error in the future. Either don't modify nodes after running them or create a new session.\n"
     ]
    },
    {
     "name": "stdout",
     "output_type": "stream",
     "text": [
      "0.7361700279422623 0.2060681314758213 0.9183257918552036 0.01634877384196185\n",
      "Layer:  LSTM\n",
      "Hidden unit:  128\n",
      "Problem type:  mort_hosp\n",
      "Iteration number:  3\n",
      "__________________\n",
      "WARNING:tensorflow:`period` argument is deprecated. Please use `save_freq` to specify the frequency in number of batches seen.\n"
     ]
    },
    {
     "name": "stderr",
     "output_type": "stream",
     "text": [
      "2023-04-03 21:58:13.886054: W tensorflow/c/c_api.cc:300] Operation '{name:'training/Adam/dense/kernel/v/Assign' id:594 op device:{requested: '', assigned: ''} def:{{{node training/Adam/dense/kernel/v/Assign}} = AssignVariableOp[_has_manual_control_dependencies=true, dtype=DT_FLOAT, validate_shape=false](training/Adam/dense/kernel/v, training/Adam/dense/kernel/v/Initializer/zeros)}}' was changed by setting attribute after it was run by a session. This mutation will have no effect, and will trigger an error in the future. Either don't modify nodes after running them or create a new session.\n",
      "2023-04-03 21:58:19.359486: W tensorflow/c/c_api.cc:300] Operation '{name:'loss/AddN' id:342 op device:{requested: '', assigned: ''} def:{{{node loss/AddN}} = AddN[N=2, T=DT_FLOAT, _has_manual_control_dependencies=true](loss/mul, loss/dense/kernel/Regularizer/mul)}}' was changed by setting attribute after it was run by a session. This mutation will have no effect, and will trigger an error in the future. Either don't modify nodes after running them or create a new session.\n",
      "2023-04-03 21:58:46.645467: W tensorflow/c/c_api.cc:300] Operation '{name:'dense/Sigmoid' id:276 op device:{requested: '', assigned: ''} def:{{{node dense/Sigmoid}} = Sigmoid[T=DT_FLOAT, _has_manual_control_dependencies=true](dense/MatMul)}}' was changed by setting attribute after it was run by a session. This mutation will have no effect, and will trigger an error in the future. Either don't modify nodes after running them or create a new session.\n"
     ]
    },
    {
     "name": "stdout",
     "output_type": "stream",
     "text": [
      "0.8784519256665769 0.5500180901386812 0.9108597285067873 0.44192634560906513\n",
      "Layer:  LSTM\n",
      "Hidden unit:  128\n",
      "Problem type:  mort_icu\n",
      "Iteration number:  3\n",
      "__________________\n",
      "WARNING:tensorflow:`period` argument is deprecated. Please use `save_freq` to specify the frequency in number of batches seen.\n"
     ]
    },
    {
     "name": "stderr",
     "output_type": "stream",
     "text": [
      "2023-04-03 21:58:48.372798: W tensorflow/c/c_api.cc:300] Operation '{name:'training/Adam/lstm/lstm_cell/bias/v/Assign' id:589 op device:{requested: '', assigned: ''} def:{{{node training/Adam/lstm/lstm_cell/bias/v/Assign}} = AssignVariableOp[_has_manual_control_dependencies=true, dtype=DT_FLOAT, validate_shape=false](training/Adam/lstm/lstm_cell/bias/v, training/Adam/lstm/lstm_cell/bias/v/Initializer/zeros)}}' was changed by setting attribute after it was run by a session. This mutation will have no effect, and will trigger an error in the future. Either don't modify nodes after running them or create a new session.\n",
      "2023-04-03 21:58:53.623565: W tensorflow/c/c_api.cc:300] Operation '{name:'loss/AddN' id:342 op device:{requested: '', assigned: ''} def:{{{node loss/AddN}} = AddN[N=2, T=DT_FLOAT, _has_manual_control_dependencies=true](loss/mul, loss/dense/kernel/Regularizer/mul)}}' was changed by setting attribute after it was run by a session. This mutation will have no effect, and will trigger an error in the future. Either don't modify nodes after running them or create a new session.\n",
      "2023-04-03 21:59:16.925090: W tensorflow/c/c_api.cc:300] Operation '{name:'dense/Sigmoid' id:276 op device:{requested: '', assigned: ''} def:{{{node dense/Sigmoid}} = Sigmoid[T=DT_FLOAT, _has_manual_control_dependencies=true](dense/MatMul)}}' was changed by setting attribute after it was run by a session. This mutation will have no effect, and will trigger an error in the future. Either don't modify nodes after running them or create a new session.\n"
     ]
    },
    {
     "name": "stdout",
     "output_type": "stream",
     "text": [
      "0.886757955162231 0.4946385705559797 0.9404977375565611 0.386946386946387\n",
      "Layer:  LSTM\n",
      "Hidden unit:  128\n",
      "Problem type:  los_3\n",
      "Iteration number:  3\n",
      "__________________\n",
      "WARNING:tensorflow:`period` argument is deprecated. Please use `save_freq` to specify the frequency in number of batches seen.\n"
     ]
    },
    {
     "name": "stderr",
     "output_type": "stream",
     "text": [
      "2023-04-03 21:59:19.093783: W tensorflow/c/c_api.cc:300] Operation '{name:'training/Adam/lstm/lstm_cell/recurrent_kernel/m/Assign' id:560 op device:{requested: '', assigned: ''} def:{{{node training/Adam/lstm/lstm_cell/recurrent_kernel/m/Assign}} = AssignVariableOp[_has_manual_control_dependencies=true, dtype=DT_FLOAT, validate_shape=false](training/Adam/lstm/lstm_cell/recurrent_kernel/m, training/Adam/lstm/lstm_cell/recurrent_kernel/m/Initializer/zeros)}}' was changed by setting attribute after it was run by a session. This mutation will have no effect, and will trigger an error in the future. Either don't modify nodes after running them or create a new session.\n",
      "2023-04-03 21:59:25.434442: W tensorflow/c/c_api.cc:300] Operation '{name:'loss/AddN' id:342 op device:{requested: '', assigned: ''} def:{{{node loss/AddN}} = AddN[N=2, T=DT_FLOAT, _has_manual_control_dependencies=true](loss/mul, loss/dense/kernel/Regularizer/mul)}}' was changed by setting attribute after it was run by a session. This mutation will have no effect, and will trigger an error in the future. Either don't modify nodes after running them or create a new session.\n",
      "2023-04-03 21:59:53.516382: W tensorflow/c/c_api.cc:300] Operation '{name:'dense/Sigmoid' id:276 op device:{requested: '', assigned: ''} def:{{{node dense/Sigmoid}} = Sigmoid[T=DT_FLOAT, _has_manual_control_dependencies=true](dense/MatMul)}}' was changed by setting attribute after it was run by a session. This mutation will have no effect, and will trigger an error in the future. Either don't modify nodes after running them or create a new session.\n"
     ]
    },
    {
     "name": "stdout",
     "output_type": "stream",
     "text": [
      "0.6896568161746996 0.6345870659541482 0.6524886877828054 0.5406698564593302\n",
      "Layer:  LSTM\n",
      "Hidden unit:  128\n",
      "Problem type:  los_7\n",
      "Iteration number:  3\n",
      "__________________\n",
      "WARNING:tensorflow:`period` argument is deprecated. Please use `save_freq` to specify the frequency in number of batches seen.\n"
     ]
    },
    {
     "name": "stderr",
     "output_type": "stream",
     "text": [
      "2023-04-03 21:59:55.534785: W tensorflow/c/c_api.cc:300] Operation '{name:'training/Adam/decay/Assign' id:541 op device:{requested: '', assigned: ''} def:{{{node training/Adam/decay/Assign}} = AssignVariableOp[_has_manual_control_dependencies=true, dtype=DT_FLOAT, validate_shape=false](training/Adam/decay, training/Adam/decay/Initializer/initial_value)}}' was changed by setting attribute after it was run by a session. This mutation will have no effect, and will trigger an error in the future. Either don't modify nodes after running them or create a new session.\n",
      "2023-04-03 22:00:00.774746: W tensorflow/c/c_api.cc:300] Operation '{name:'loss/AddN' id:342 op device:{requested: '', assigned: ''} def:{{{node loss/AddN}} = AddN[N=2, T=DT_FLOAT, _has_manual_control_dependencies=true](loss/mul, loss/dense/kernel/Regularizer/mul)}}' was changed by setting attribute after it was run by a session. This mutation will have no effect, and will trigger an error in the future. Either don't modify nodes after running them or create a new session.\n"
     ]
    }
   ],
   "source": [
    "epoch_num = 100\n",
    "model_patience = 3\n",
    "monitor_criteria = 'val_loss'\n",
    "batch_size = 128\n",
    "\n",
    "unit_sizes = [128, 256]\n",
    "#unit_sizes = [256]\n",
    "iter_num = 11\n",
    "target_problems = ['mort_hosp', 'mort_icu', 'los_3', 'los_7']\n",
    "layers = [\"LSTM\", \"GRU\"]\n",
    "#layers = [\"GRU\"]\n",
    "for each_layer in layers:\n",
    "    for each_unit_size in unit_sizes:\n",
    "        for iteration in range(1, iter_num):\n",
    "            for each_problem in target_problems:\n",
    "                \n",
    "                print(\"Layer: \", each_layer)\n",
    "                print(\"Hidden unit: \", each_unit_size)\n",
    "                print (\"Problem type: \", each_problem)\n",
    "                print(\"Iteration number: \", iteration)\n",
    "                print (\"__________________\")\n",
    "\n",
    "\n",
    "                early_stopping_monitor = EarlyStopping(monitor=monitor_criteria, patience=model_patience)\n",
    "                \n",
    "                best_model_name = str(each_layer)+\"-\"+str(each_unit_size)+\"-\"+str(each_problem)+\"-\"+\"best_model.hdf5\"\n",
    "                \n",
    "                checkpoint = ModelCheckpoint(best_model_name, \n",
    "                                             monitor='val_loss', \n",
    "                                             verbose=0,\n",
    "                                             save_best_only=True, \n",
    "                                             mode='min', \n",
    "                                             period=1)\n",
    "\n",
    "\n",
    "                callbacks = [early_stopping_monitor, checkpoint]\n",
    "\n",
    "                model = timeseries_model(each_layer, each_unit_size)\n",
    "                model.fit(x_train_lstm, \n",
    "                          y_train[each_problem], \n",
    "                          epochs=epoch_num, \n",
    "                          verbose=0, \n",
    "                          validation_data=(x_dev_lstm, y_dev[each_problem]), \n",
    "                          callbacks=callbacks, \n",
    "                          batch_size= batch_size)\n",
    "\n",
    "                model.load_weights(best_model_name)\n",
    "\n",
    "                probs, predictions = make_prediction_timeseries(model, x_test_lstm)\n",
    "                save_scores_timeseries(predictions, probs, y_test[each_problem].values,str(each_layer),\n",
    "                                       each_problem, iteration, each_unit_size,type_of_ner)\n",
    "                reset_keras(model)\n",
    "                #del model\n",
    "                tf.keras.backend.clear_session()\n",
    "                gc.collect()"
   ]
  },
  {
   "cell_type": "code",
   "execution_count": null,
   "metadata": {},
   "outputs": [],
   "source": []
  }
 ],
 "metadata": {
  "kernelspec": {
   "display_name": "Python 3 (ipykernel)",
   "language": "python",
   "name": "python3"
  },
  "language_info": {
   "codemirror_mode": {
    "name": "ipython",
    "version": 3
   },
   "file_extension": ".py",
   "mimetype": "text/x-python",
   "name": "python",
   "nbconvert_exporter": "python",
   "pygments_lexer": "ipython3",
   "version": "3.8.16"
  }
 },
 "nbformat": 4,
 "nbformat_minor": 4
}
