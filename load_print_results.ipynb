{
 "cells": [
  {
   "cell_type": "code",
   "execution_count": 20,
   "id": "96dcb324",
   "metadata": {},
   "outputs": [],
   "source": [
    "import pandas as pd\n",
    "import numpy as np"
   ]
  },
  {
   "cell_type": "code",
   "execution_count": 40,
   "id": "912405cd",
   "metadata": {},
   "outputs": [],
   "source": [
    "target_problems = ['mort_hosp', 'mort_icu', 'los_3', 'los_7']\n",
    "\n",
    "unit_size = 256\n",
    "layers = \"GRU\"\n",
    "embedding_type = 'word2vec'\n"
   ]
  },
  {
   "cell_type": "code",
   "execution_count": 41,
   "id": "8d6f7dc2",
   "metadata": {},
   "outputs": [],
   "source": [
    "def print_results():\n",
    "    print(\"Target Problem: {}\".format(target_problem))\n",
    "    print(\"----------------------------\")\n",
    "    print(\"AUROC: {} {} {}\".format(np.round(np.mean(auc),2),   u\"\\u00B1\", np.round(np.std(auc),3)))\n",
    "    print(\"AUPRC: {} {} {}\".format(np.round(np.mean(auprc),2), u\"\\u00B1\", np.round(np.std(auprc),3)))\n",
    "    print(\"F1:    {} {} {}\".format(np.round(np.mean(F1),2),    u\"\\u00B1\", np.round(np.std(F1),3)))\n",
    "    print(\"\")"
   ]
  },
  {
   "cell_type": "markdown",
   "id": "500d1320",
   "metadata": {},
   "source": [
    "## GRU"
   ]
  },
  {
   "cell_type": "code",
   "execution_count": 42,
   "id": "0e51197b",
   "metadata": {},
   "outputs": [
    {
     "name": "stdout",
     "output_type": "stream",
     "text": [
      "Target Problem: mort_hosp\n",
      "----------------------------\n",
      "AUROC: 0.88 ± 0.003\n",
      "AUPRC: 0.55 ± 0.009\n",
      "F1:    0.44 ± 0.021\n",
      "\n",
      "Target Problem: mort_icu\n",
      "----------------------------\n",
      "AUROC: 0.89 ± 0.004\n",
      "AUPRC: 0.51 ± 0.011\n",
      "F1:    0.43 ± 0.022\n",
      "\n",
      "Target Problem: los_3\n",
      "----------------------------\n",
      "AUROC: 0.69 ± 0.005\n",
      "AUPRC: 0.64 ± 0.005\n",
      "F1:    0.55 ± 0.012\n",
      "\n",
      "Target Problem: los_7\n",
      "----------------------------\n",
      "AUROC: 0.74 ± 0.006\n",
      "AUPRC: 0.21 ± 0.007\n",
      "F1:    0.05 ± 0.018\n",
      "\n"
     ]
    }
   ],
   "source": [
    "for target_problem in target_problems:\n",
    "    auc   = []\n",
    "    auprc = []\n",
    "    acc   = []\n",
    "    F1    = []\n",
    "    \n",
    "    for run in range(1,11):\n",
    "        data = pd.read_pickle(\"results/{}-{}-{}-{}-new.p\".format(unit_size, layers, target_problem, run))\n",
    "        data\n",
    "        auc.append(data['auc'])\n",
    "        auprc.append(data['auprc'])\n",
    "        acc.append(data['acc'])\n",
    "        F1.append(data['F1'])\n",
    "        \n",
    "    print_results()"
   ]
  },
  {
   "cell_type": "markdown",
   "id": "6b3b8fdf",
   "metadata": {},
   "source": [
    "## Word2Vec multimodal"
   ]
  },
  {
   "cell_type": "code",
   "execution_count": 44,
   "id": "14c20576",
   "metadata": {},
   "outputs": [
    {
     "name": "stdout",
     "output_type": "stream",
     "text": [
      "Target Problem: mort_hosp\n",
      "----------------------------\n",
      "AUROC: 0.88 ± 0.0\n",
      "AUPRC: 0.59 ± 0.0\n",
      "F1:    0.45 ± 0.0\n",
      "\n",
      "Target Problem: mort_icu\n",
      "----------------------------\n",
      "AUROC: 0.89 ± 0.0\n",
      "AUPRC: 0.53 ± 0.0\n",
      "F1:    0.46 ± 0.0\n",
      "\n",
      "Target Problem: los_3\n",
      "----------------------------\n",
      "AUROC: 0.7 ± 0.0\n",
      "AUPRC: 0.65 ± 0.0\n",
      "F1:    0.56 ± 0.0\n",
      "\n",
      "Target Problem: los_7\n",
      "----------------------------\n",
      "AUROC: 0.74 ± 0.0\n",
      "AUPRC: 0.23 ± 0.0\n",
      "F1:    0.07 ± 0.0\n",
      "\n"
     ]
    }
   ],
   "source": [
    "for target_problem in target_problems:\n",
    "    auc   = []\n",
    "    auprc = []\n",
    "    acc   = []\n",
    "    F1    = []\n",
    "    \n",
    "    for run in range(1,2):\n",
    "        data = pd.read_pickle(\"results/{}-{}-{}-{}-{}-new-avg-.p\".format(layers, \n",
    "                                                                 unit_size, \n",
    "                                                                 embedding_type, \n",
    "                                                                 target_problem, \n",
    "                                                                 run))\n",
    "        data\n",
    "        auc.append(data['auc'])\n",
    "        auprc.append(data['auprc'])\n",
    "        acc.append(data['acc'])\n",
    "        F1.append(data['F1'])\n",
    "        \n",
    "    print_results()"
   ]
  },
  {
   "cell_type": "code",
   "execution_count": null,
   "id": "940cc197",
   "metadata": {},
   "outputs": [],
   "source": []
  }
 ],
 "metadata": {
  "kernelspec": {
   "display_name": "Python [conda env:DLH_project_py38] *",
   "language": "python",
   "name": "conda-env-DLH_project_py38-py"
  },
  "language_info": {
   "codemirror_mode": {
    "name": "ipython",
    "version": 3
   },
   "file_extension": ".py",
   "mimetype": "text/x-python",
   "name": "python",
   "nbconvert_exporter": "python",
   "pygments_lexer": "ipython3",
   "version": "3.8.16"
  }
 },
 "nbformat": 4,
 "nbformat_minor": 5
}
