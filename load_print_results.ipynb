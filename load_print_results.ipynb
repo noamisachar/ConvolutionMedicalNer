{
 "cells": [
  {
   "cell_type": "code",
   "execution_count": null,
   "id": "238d11cd",
   "metadata": {},
   "outputs": [],
   "source": [
    "import pandas as pd\n",
    "import numpy as np"
   ]
  },
  {
   "cell_type": "code",
   "execution_count": null,
   "id": "14e0510f",
   "metadata": {},
   "outputs": [],
   "source": [
    "target_problems = ['mort_hosp', 'mort_icu', 'los_3', 'los_7']\n",
    "\n",
    "unit_size = 256\n",
    "layers = \"GRU\"\n",
    "embedding_type = 'word2vec'\n"
   ]
  },
  {
   "cell_type": "code",
   "execution_count": null,
   "id": "cb495a31",
   "metadata": {},
   "outputs": [],
   "source": [
    "GRU = {\n",
    "    'mort_hosp':{'auc': 0.8504, 'auprc': 0.5215, 'F1': 0.4229},\n",
    "    'mort_icu': {'auc': 0.8632, 'auprc': 0.4651, 'F1': 0.3630},\n",
    "    'los_3':    {'auc': 0.6740, 'auprc': 0.6017, 'F1': 0.5336},\n",
    "    'los_7':    {'auc': 0.7054, 'auprc': 0.1625, 'F1': 0.0233},\n",
    "}\n",
    "\n",
    "word2vec = {\n",
    "    'mort_hosp':{'auc': 0.8642, 'auprc': 0.5422, 'F1': 0.4542},\n",
    "    'mort_icu': {'auc': 0.8717, 'auprc': 0.4847, 'F1': 0.4230},\n",
    "    'los_3':    {'auc': 0.6863, 'auprc': 0.6181, 'F1': 0.5419},\n",
    "    'los_7':    {'auc': 0.7159, 'auprc': 0.1791, 'F1': 0.0135},\n",
    "}"
   ]
  },
  {
   "cell_type": "code",
   "execution_count": null,
   "id": "3c1dc5bd",
   "metadata": {},
   "outputs": [],
   "source": [
    "def print_results(model, target_problem, auc, auprc, F1):\n",
    "    \n",
    "    print(\"Target Problem: {}\".format(target_problem))\n",
    "    print(\"----------------------------\")\n",
    "    print(\"AUROC: {:.4f} {} {:.3f}   (Paper: {:.4f}, Abs Diff: {:.4f} ({:.1f} %))\".format(\n",
    "        np.mean(auc),   \n",
    "        u\"\\u00B1\", \n",
    "        np.std(auc),\n",
    "        model[target_problem]['auc'],\n",
    "        np.abs(np.round(np.mean(auc),4) - model[target_problem]['auc']),\n",
    "        np.abs(np.round(np.mean(auc),4) - model[target_problem]['auc']) / model[target_problem]['auc'] * 100\n",
    "    ))\n",
    "    \n",
    "    print(\"AUPRC: {:.4f} {} {:.3f}   (Paper: {:.4f}, Abs Diff: {:.4f} ({:.1f} %))\".format(\n",
    "        np.mean(auprc), \n",
    "        u\"\\u00B1\", \n",
    "        np.std(auprc),\n",
    "        model[target_problem]['auprc'],\n",
    "        np.abs(np.round(np.mean(auprc),4) - model[target_problem]['auprc']),\n",
    "        np.abs(np.round(np.mean(auprc),4) - model[target_problem]['auprc']) / model[target_problem]['auprc'] * 100\n",
    "    ))\n",
    "    \n",
    "    print(\"F1:    {:.4f} {} {:.3f}   (Paper: {:.4f}, Abs Diff: {:.4f} ({:.1f} %))\".format(\n",
    "        np.mean(F1),    \n",
    "        u\"\\u00B1\", \n",
    "        np.std(F1),\n",
    "        model[target_problem]['F1'],\n",
    "        np.abs(np.round(np.mean(F1),4) - model[target_problem]['F1']),\n",
    "        np.abs(np.round(np.mean(F1),4) - model[target_problem]['F1']) / model[target_problem]['F1'] * 100\n",
    "    ))\n",
    "    print(\"\")"
   ]
  },
  {
   "cell_type": "markdown",
   "id": "b0a757bd",
   "metadata": {},
   "source": [
    "## GRU"
   ]
  },
  {
   "cell_type": "code",
   "execution_count": null,
   "id": "86cc27c5",
   "metadata": {
    "scrolled": false
   },
   "outputs": [],
   "source": [
    "for target_problem in target_problems:\n",
    "    auc   = []\n",
    "    auprc = []\n",
    "    acc   = []\n",
    "    F1    = []\n",
    "    \n",
    "    for run in range(1,11):\n",
    "        data = pd.read_pickle(\"results/GRU/{}-{}-{}-{}-new.p\".format(\n",
    "            unit_size, \n",
    "            layers, \n",
    "            target_problem, \n",
    "            run))\n",
    "\n",
    "        auc.append(data['auc'])\n",
    "        auprc.append(data['auprc'])\n",
    "        acc.append(data['acc'])\n",
    "        F1.append(data['F1'])\n",
    "        \n",
    "    print_results(GRU, target_problem, auc, auprc, F1)"
   ]
  },
  {
   "cell_type": "markdown",
   "id": "086f75f6",
   "metadata": {},
   "source": [
    "## Word2Vec multimodal"
   ]
  },
  {
   "cell_type": "code",
   "execution_count": null,
   "id": "c8fb3a0d",
   "metadata": {},
   "outputs": [],
   "source": [
    "for target_problem in target_problems:\n",
    "    auc   = []\n",
    "    auprc = []\n",
    "    acc   = []\n",
    "    F1    = []\n",
    "    \n",
    "    for run in range(1,11):\n",
    "        data = pd.read_pickle(\"results/word2vec_avg/{}-{}-{}-{}-{}-new-avg-.p\".format(\n",
    "            layers, \n",
    "            unit_size, \n",
    "            embedding_type, \n",
    "            target_problem, \n",
    "            run))\n",
    "\n",
    "        auc.append(data['auc'])\n",
    "        auprc.append(data['auprc'])\n",
    "        acc.append(data['acc'])\n",
    "        F1.append(data['F1'])\n",
    "        \n",
    "    print_results(word2vec, target_problem, auc, auprc, F1)"
   ]
  },
  {
   "cell_type": "markdown",
   "id": "9ec5e6ac",
   "metadata": {},
   "source": [
    "## Proposed Model: word2vec"
   ]
  },
  {
   "cell_type": "code",
   "execution_count": null,
   "id": "3b476d49",
   "metadata": {
    "scrolled": true
   },
   "outputs": [],
   "source": [
    "for target_problem in target_problems:\n",
    "    auc   = []\n",
    "    auprc = []\n",
    "    acc   = []\n",
    "    F1    = []    \n",
    "    \n",
    "    for run in range(1,11):\n",
    "        data = pd.read_pickle(\"results/cnn/{}-{}-{}-{}-{}-new-cnn-.p\".format(\n",
    "            layers, \n",
    "            unit_size, \n",
    "            embedding_type, \n",
    "            target_problem, \n",
    "            run))\n",
    "        \n",
    "        auc.append(data['auc'])\n",
    "        auprc.append(data['auprc'])\n",
    "        acc.append(data['acc'])\n",
    "        F1.append(data['F1'])\n",
    "        \n",
    "    print_results(word2vec, target_problem, auc, auprc, F1)"
   ]
  },
  {
   "cell_type": "code",
   "execution_count": null,
   "id": "949a4e19",
   "metadata": {},
   "outputs": [],
   "source": []
  }
 ],
 "metadata": {
  "kernelspec": {
   "display_name": "Python [conda env:DLH_project_py38] *",
   "language": "python",
   "name": "conda-env-DLH_project_py38-py"
  },
  "language_info": {
   "codemirror_mode": {
    "name": "ipython",
    "version": 3
   },
   "file_extension": ".py",
   "mimetype": "text/x-python",
   "name": "python",
   "nbconvert_exporter": "python",
   "pygments_lexer": "ipython3",
   "version": "3.8.16"
  }
 },
 "nbformat": 4,
 "nbformat_minor": 5
}
